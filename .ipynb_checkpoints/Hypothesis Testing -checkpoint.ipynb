{
 "cells": [
  {
   "cell_type": "markdown",
   "id": "990dde44",
   "metadata": {},
   "source": [
    "#  Hypothesis Testing with Insurance Data\n",
    "\n",
    "### Import US Health Insurance Dataset from Kaggle\n"
   ]
  },
  {
   "cell_type": "code",
   "execution_count": 2,
   "id": "5063bbca",
   "metadata": {},
   "outputs": [],
   "source": [
    "import pandas as pd\n",
    "import numpy as np\n",
    "import matplotlib.pyplot as plt\n",
    "import matplotlib as mpl\n",
    "import seaborn as sns\n",
    "import os, time,json\n",
    "import scipy.stats as stats\n",
    "\n",
    "import warnings\n",
    "warnings.filterwarnings('ignore')\n",
    "\n",
    "plt.style.use(['seaborn-muted','fivethirtyeight'])\n",
    "sns.set_context('talk')"
   ]
  },
  {
   "cell_type": "code",
   "execution_count": 3,
   "id": "cae3132a",
   "metadata": {},
   "outputs": [
    {
     "name": "stdout",
     "output_type": "stream",
     "text": [
      "Requirement already satisfied: seaborn in c:\\users\\admin\\anaconda3\\envs\\dojo-env\\lib\\site-packages (0.12.2)\n",
      "Requirement already satisfied: pandas in c:\\users\\admin\\anaconda3\\envs\\dojo-env\\lib\\site-packages (2.1.0)\n",
      "Requirement already satisfied: numpy!=1.24.0,>=1.17 in c:\\users\\admin\\anaconda3\\envs\\dojo-env\\lib\\site-packages (from seaborn) (1.23.4)\n",
      "Requirement already satisfied: matplotlib!=3.6.1,>=3.1 in c:\\users\\admin\\anaconda3\\envs\\dojo-env\\lib\\site-packages (from seaborn) (3.7.2)\n",
      "Requirement already satisfied: pytz>=2020.1 in c:\\users\\admin\\anaconda3\\envs\\dojo-env\\lib\\site-packages (from pandas) (2023.3)\n",
      "Requirement already satisfied: python-dateutil>=2.8.2 in c:\\users\\admin\\anaconda3\\envs\\dojo-env\\lib\\site-packages (from pandas) (2.8.2)\n",
      "Requirement already satisfied: tzdata>=2022.1 in c:\\users\\admin\\anaconda3\\envs\\dojo-env\\lib\\site-packages (from pandas) (2022.7)\n",
      "Requirement already satisfied: contourpy>=1.0.1 in c:\\users\\admin\\anaconda3\\envs\\dojo-env\\lib\\site-packages (from matplotlib!=3.6.1,>=3.1->seaborn) (1.0.5)\n",
      "Requirement already satisfied: pillow>=6.2.0 in c:\\users\\admin\\anaconda3\\envs\\dojo-env\\lib\\site-packages (from matplotlib!=3.6.1,>=3.1->seaborn) (9.2.0)\n",
      "Requirement already satisfied: kiwisolver>=1.0.1 in c:\\users\\admin\\anaconda3\\envs\\dojo-env\\lib\\site-packages (from matplotlib!=3.6.1,>=3.1->seaborn) (1.4.2)\n",
      "Requirement already satisfied: pyparsing<3.1,>=2.3.1 in c:\\users\\admin\\anaconda3\\envs\\dojo-env\\lib\\site-packages (from matplotlib!=3.6.1,>=3.1->seaborn) (3.0.9)\n",
      "Requirement already satisfied: cycler>=0.10 in c:\\users\\admin\\anaconda3\\envs\\dojo-env\\lib\\site-packages (from matplotlib!=3.6.1,>=3.1->seaborn) (0.11.0)\n",
      "Requirement already satisfied: fonttools>=4.22.0 in c:\\users\\admin\\anaconda3\\envs\\dojo-env\\lib\\site-packages (from matplotlib!=3.6.1,>=3.1->seaborn) (4.25.0)\n",
      "Requirement already satisfied: packaging>=20.0 in c:\\users\\admin\\anaconda3\\envs\\dojo-env\\lib\\site-packages (from matplotlib!=3.6.1,>=3.1->seaborn) (21.3)\n",
      "Requirement already satisfied: importlib-resources>=3.2.0 in c:\\users\\admin\\anaconda3\\envs\\dojo-env\\lib\\site-packages (from matplotlib!=3.6.1,>=3.1->seaborn) (6.0.0)\n",
      "Requirement already satisfied: six>=1.5 in c:\\users\\admin\\anaconda3\\envs\\dojo-env\\lib\\site-packages (from python-dateutil>=2.8.2->pandas) (1.16.0)\n",
      "Requirement already satisfied: zipp>=3.1.0 in c:\\users\\admin\\anaconda3\\envs\\dojo-env\\lib\\site-packages (from importlib-resources>=3.2.0->matplotlib!=3.6.1,>=3.1->seaborn) (3.8.0)\n",
      "Note: you may need to restart the kernel to use updated packages.\n"
     ]
    }
   ],
   "source": [
    "pip install --upgrade seaborn pandas"
   ]
  },
  {
   "cell_type": "code",
   "execution_count": 4,
   "id": "67ad97ac",
   "metadata": {
    "scrolled": true
   },
   "outputs": [
    {
     "data": {
      "text/plain": [
       "[]"
      ]
     },
     "execution_count": 4,
     "metadata": {},
     "output_type": "execute_result"
    }
   ],
   "source": [
    "# example making new folder with os\n",
    "os.makedirs('Data/',exist_ok=True) # Confirm folder created\n",
    "os.listdir(\"Data/\")"
   ]
  },
  {
   "cell_type": "code",
   "execution_count": 5,
   "id": "6263ff7b",
   "metadata": {},
   "outputs": [],
   "source": [
    "#Import dataset\n",
    "file_url = r\"C:\\Users\\admin\\Documents\\GitHub\\Hypothesis-Testing-with-Insurance-Data\\Data\\insurance - insurance.csv\"\n",
    "\n",
    "df = pd.read_csv(file_url)"
   ]
  },
  {
   "cell_type": "markdown",
   "id": "63417892",
   "metadata": {},
   "source": [
    "We have been asked to use our hypothesis testing skills to answer the following questions:\n",
    "\n",
    "- Q1. Do smokers have higher insurance charges than non-smokers?\n",
    "- Q2. Are men more likely to smoke than women?\n",
    "- Q3. Do different regions have different charges, on average?\n",
    "\n",
    "For each question, make sure to:\n",
    "\n",
    "1. State your Null Hypothesis and Alternative Hypothesis\n",
    "2. Select the correct test according to the data type and number of samples\n",
    "3. Test the assumptions of your selected test.\n",
    "4. Execute the selected test, or the alternative test (if you do not meet the assumptions)\n",
    "5. Interpret your p-value and reject or fail to reject your null hypothesis \n",
    "6. Show a supporting visualization that helps display the result\n"
   ]
  },
  {
   "cell_type": "code",
   "execution_count": 6,
   "id": "10a876be",
   "metadata": {
    "scrolled": true
   },
   "outputs": [
    {
     "data": {
      "text/html": [
       "<div>\n",
       "<style scoped>\n",
       "    .dataframe tbody tr th:only-of-type {\n",
       "        vertical-align: middle;\n",
       "    }\n",
       "\n",
       "    .dataframe tbody tr th {\n",
       "        vertical-align: top;\n",
       "    }\n",
       "\n",
       "    .dataframe thead th {\n",
       "        text-align: right;\n",
       "    }\n",
       "</style>\n",
       "<table border=\"1\" class=\"dataframe\">\n",
       "  <thead>\n",
       "    <tr style=\"text-align: right;\">\n",
       "      <th></th>\n",
       "      <th>age</th>\n",
       "      <th>sex</th>\n",
       "      <th>bmi</th>\n",
       "      <th>children</th>\n",
       "      <th>smoker</th>\n",
       "      <th>region</th>\n",
       "      <th>charges</th>\n",
       "    </tr>\n",
       "  </thead>\n",
       "  <tbody>\n",
       "    <tr>\n",
       "      <th>0</th>\n",
       "      <td>19</td>\n",
       "      <td>female</td>\n",
       "      <td>27.900</td>\n",
       "      <td>0</td>\n",
       "      <td>yes</td>\n",
       "      <td>southwest</td>\n",
       "      <td>16884.92400</td>\n",
       "    </tr>\n",
       "    <tr>\n",
       "      <th>1</th>\n",
       "      <td>18</td>\n",
       "      <td>male</td>\n",
       "      <td>33.770</td>\n",
       "      <td>1</td>\n",
       "      <td>no</td>\n",
       "      <td>southeast</td>\n",
       "      <td>1725.55230</td>\n",
       "    </tr>\n",
       "    <tr>\n",
       "      <th>2</th>\n",
       "      <td>28</td>\n",
       "      <td>male</td>\n",
       "      <td>33.000</td>\n",
       "      <td>3</td>\n",
       "      <td>no</td>\n",
       "      <td>southeast</td>\n",
       "      <td>4449.46200</td>\n",
       "    </tr>\n",
       "    <tr>\n",
       "      <th>3</th>\n",
       "      <td>33</td>\n",
       "      <td>male</td>\n",
       "      <td>22.705</td>\n",
       "      <td>0</td>\n",
       "      <td>no</td>\n",
       "      <td>northwest</td>\n",
       "      <td>21984.47061</td>\n",
       "    </tr>\n",
       "    <tr>\n",
       "      <th>4</th>\n",
       "      <td>32</td>\n",
       "      <td>male</td>\n",
       "      <td>28.880</td>\n",
       "      <td>0</td>\n",
       "      <td>no</td>\n",
       "      <td>northwest</td>\n",
       "      <td>3866.85520</td>\n",
       "    </tr>\n",
       "  </tbody>\n",
       "</table>\n",
       "</div>"
      ],
      "text/plain": [
       "   age     sex     bmi  children smoker     region      charges\n",
       "0   19  female  27.900         0    yes  southwest  16884.92400\n",
       "1   18    male  33.770         1     no  southeast   1725.55230\n",
       "2   28    male  33.000         3     no  southeast   4449.46200\n",
       "3   33    male  22.705         0     no  northwest  21984.47061\n",
       "4   32    male  28.880         0     no  northwest   3866.85520"
      ]
     },
     "execution_count": 6,
     "metadata": {},
     "output_type": "execute_result"
    }
   ],
   "source": [
    "df.head()"
   ]
  },
  {
   "cell_type": "markdown",
   "id": "ca7aa331",
   "metadata": {},
   "source": [
    "Question 1: Do smokers have higher insurance charges than non-smokers?\n",
    "    \n",
    "1. State your Null Hypothesis and Alternative Hypothesis   \n",
    "    - Null Hypothesis:  THe average insurance charge for smokers is equal to the charges for non-smokers.\n",
    "    - Alt Hypothesis:  The average insurance charge for smokers is higher than those for non-smokers.\n",
    "        \n",
    "2. Select the correct test according to the data type and number of samples.\n",
    "\n",
    "    - We will use a two-sample T-Test to compare the average charges of two independent groups.\n",
    "\n",
    "3. Test the assumptions of your selected test.\n",
    "\n",
    "    - Before performing the hypothesis testing we will check for outliers, distribution normality, and equal variance. \n"
   ]
  },
  {
   "cell_type": "code",
   "execution_count": 19,
   "id": "61fe50a3",
   "metadata": {},
   "outputs": [
    {
     "name": "stdout",
     "output_type": "stream",
     "text": [
      "The average charges for smokers is 32050.23183153284.\n",
      "The average charges for non-smokers is 8434.268297856204.\n"
     ]
    }
   ],
   "source": [
    "# Find mean\n",
    "\n",
    "# Define groups\n",
    "smoker_charge = df.loc[ df['smoker']=='yes',\"charges\"]\n",
    "nonsmoker_charge = df.loc[ df['smoker']=='no',\"charges\"]\n",
    "\n",
    "# Print mean charge for each group\n",
    "print(f\"The average charges for smokers is {np.mean(smoker_charge)}.\")\n",
    "print(f\"The average charges for non-smokers is {np.mean(nonsmoker_charge)}.\")"
   ]
  },
  {
   "cell_type": "code",
   "execution_count": 21,
   "id": "0eec89bd",
   "metadata": {},
   "outputs": [
    {
     "data": {
      "text/plain": [
       "0"
      ]
     },
     "execution_count": 21,
     "metadata": {},
     "output_type": "execute_result"
    }
   ],
   "source": [
    "# Test for outliers\n",
    "\n",
    "zscores_s = stats.zscore(smoker_charge)\n",
    "outliers_s = abs(zscores_s)>3\n",
    "np.sum(outliers_s)"
   ]
  },
  {
   "cell_type": "markdown",
   "id": "bd606a21",
   "metadata": {},
   "source": [
    "There are no outliers within the smoking group set"
   ]
  },
  {
   "cell_type": "code",
   "execution_count": 22,
   "id": "51a08aa6",
   "metadata": {
    "scrolled": true
   },
   "outputs": [
    {
     "data": {
      "text/plain": [
       "24"
      ]
     },
     "execution_count": 22,
     "metadata": {},
     "output_type": "execute_result"
    }
   ],
   "source": [
    "#test for outliers\n",
    "\n",
    "zscores_n = stats.zscore(nonsmoker_charge)\n",
    "outliers_n = abs(zscores_n)>3\n",
    "np.sum(outliers_n)"
   ]
  },
  {
   "cell_type": "markdown",
   "id": "6ed679c4",
   "metadata": {},
   "source": [
    "There are 24 outliers within the non-smoking group set"
   ]
  },
  {
   "cell_type": "code",
   "execution_count": 24,
   "id": "5bea04b8",
   "metadata": {},
   "outputs": [],
   "source": [
    "#Removing outliers \n",
    "nonsmoker_charge = nonsmoker_charge[(np.abs(stats.zscore(nonsmoker_charge)) < 3)]"
   ]
  },
  {
   "cell_type": "code",
   "execution_count": 30,
   "id": "12459298",
   "metadata": {
    "scrolled": false
   },
   "outputs": [
    {
     "name": "stdout",
     "output_type": "stream",
     "text": [
      "NormaltestResult(statistic=61.03941356533816, pvalue=5.564930630036463e-14)\n",
      "NormaltestResult(statistic=70.72942109230829, pvalue=4.378258058526592e-16)\n"
     ]
    }
   ],
   "source": [
    "# Test for normality\n",
    "\n",
    "norm_smokers = stats.normaltest(smoker_charge)\n",
    "norm_nonsmokers = stats.normaltest(nonsmoker_charge)\n",
    "\n",
    "\n",
    "print(norm_smokers)\n",
    "print(norm_nonsmokers)"
   ]
  },
  {
   "cell_type": "markdown",
   "id": "7397bbce",
   "metadata": {},
   "source": [
    "p values for both groups are less than 0.05."
   ]
  },
  {
   "cell_type": "code",
   "execution_count": 31,
   "id": "8d6fdcb3",
   "metadata": {
    "scrolled": true
   },
   "outputs": [
    {
     "data": {
      "text/plain": [
       "LeveneResult(statistic=672.9614970899742, pvalue=8.519436906838144e-120)"
      ]
     },
     "execution_count": 31,
     "metadata": {},
     "output_type": "execute_result"
    }
   ],
   "source": [
    "# Test for variance\n",
    "\n",
    "variance = stats.levene(smoker_charge, nonsmoker_charge)\n",
    "variance"
   ]
  },
  {
   "cell_type": "markdown",
   "id": "9c6bc1e5",
   "metadata": {},
   "source": [
    "The variance is not equal."
   ]
  },
  {
   "cell_type": "markdown",
   "id": "7ce93a8c",
   "metadata": {},
   "source": [
    "4. Execute the selected test, or the alternative test (if you do not meet the assumptions)"
   ]
  },
  {
   "cell_type": "code",
   "execution_count": 32,
   "id": "bc867b2e",
   "metadata": {},
   "outputs": [
    {
     "data": {
      "text/plain": [
       "Ttest_indResult(statistic=34.32521687276006, pvalue=3.183690185070226e-105)"
      ]
     },
     "execution_count": 32,
     "metadata": {},
     "output_type": "execute_result"
    }
   ],
   "source": [
    "# T-Test\n",
    "\n",
    "ttest = stats.ttest_ind(smoker_charge, nonsmoker_charge, equal_var = False)\n",
    "ttest"
   ]
  },
  {
   "cell_type": "markdown",
   "id": "69d5081b",
   "metadata": {},
   "source": [
    "5. Interpret your p-value and reject or fail to reject your null hypothesis\n",
    "\n",
    "- The p value is less than 0.05 so we reject the null hypothesis.  There is a difference in charges for smokers and non-smokers.\n",
    "\n",
    "6. Show a supporting visualization that helps display the result"
   ]
  },
  {
   "cell_type": "code",
   "execution_count": 34,
   "id": "ba203e9e",
   "metadata": {},
   "outputs": [
    {
     "data": {
      "image/png": "[encoded data removed]",
      "text/plain": [
       "<Figure size 1000x600 with 1 Axes>"
      ]
     },
     "metadata": {},
     "output_type": "display_data"
    }
   ],
   "source": [
    "# Create Figure\n",
    "\n",
    "#Creating boxplot using seaborn to display the result\n",
    "plt.figure(figsize=(10,6))\n",
    "sns.boxplot(x='smoker', y='charges', data=df)\n",
    "plt.title('Distibution of Charges for Smokers and Non-Smokers')\n",
    "plt.show()"
   ]
  },
  {
   "cell_type": "markdown",
   "id": "4ecbc31d",
   "metadata": {},
   "source": [
    "- We can see from the figure above that Smokers have a much higher average charge and a much wider distribution than those charges in non-smoking groups.\n",
    "- Smoking status has a significant effect on insurance charges."
   ]
  },
  {
   "cell_type": "markdown",
   "id": "1841cca6",
   "metadata": {},
   "source": [
    "Question 2: Are men more likely to smoke than women?\n",
    "    \n",
    "1. State your Null Hypothesis and Alternative Hypothesis   \n",
    "    - Null Hypothesis: Both men and women are equally likely to be smokers.\n",
    "    - Alt Hypothesis:  Men and women are not equally likely to be smokers.\n",
    "        \n",
    "2. Select the correct test according to the data type and number of samples.\n",
    "\n",
    "    - We will use Chi-Square testing to test a hypothesis for categorical variables: sex and smoking status.\n",
    "\n",
    "3. Test the assumptions of your selected test. \n"
   ]
  },
  {
   "cell_type": "code",
   "execution_count": 36,
   "id": "85fb0598",
   "metadata": {},
   "outputs": [
    {
     "data": {
      "text/html": [
       "<div>\n",
       "<style scoped>\n",
       "    .dataframe tbody tr th:only-of-type {\n",
       "        vertical-align: middle;\n",
       "    }\n",
       "\n",
       "    .dataframe tbody tr th {\n",
       "        vertical-align: top;\n",
       "    }\n",
       "\n",
       "    .dataframe thead th {\n",
       "        text-align: right;\n",
       "    }\n",
       "</style>\n",
       "<table border=\"1\" class=\"dataframe\">\n",
       "  <thead>\n",
       "    <tr style=\"text-align: right;\">\n",
       "      <th>smoker</th>\n",
       "      <th>no</th>\n",
       "      <th>yes</th>\n",
       "    </tr>\n",
       "    <tr>\n",
       "      <th>sex</th>\n",
       "      <th></th>\n",
       "      <th></th>\n",
       "    </tr>\n",
       "  </thead>\n",
       "  <tbody>\n",
       "    <tr>\n",
       "      <th>female</th>\n",
       "      <td>547</td>\n",
       "      <td>115</td>\n",
       "    </tr>\n",
       "    <tr>\n",
       "      <th>male</th>\n",
       "      <td>517</td>\n",
       "      <td>159</td>\n",
       "    </tr>\n",
       "  </tbody>\n",
       "</table>\n",
       "</div>"
      ],
      "text/plain": [
       "smoker   no  yes\n",
       "sex             \n",
       "female  547  115\n",
       "male    517  159"
      ]
     },
     "execution_count": 36,
     "metadata": {},
     "output_type": "execute_result"
    }
   ],
   "source": [
    "# Contingency table \n",
    "\n",
    "chi_table = pd.crosstab(df['sex'], df['smoker'])\n",
    "chi_table"
   ]
  },
  {
   "cell_type": "markdown",
   "id": "64dd02ac",
   "metadata": {},
   "source": [
    "4. Execute the selected test, or the alternative test (if you do not meet the assumptions)"
   ]
  },
  {
   "cell_type": "code",
   "execution_count": 37,
   "id": "55a6cb04",
   "metadata": {},
   "outputs": [],
   "source": [
    "# Run Chi-Test\n",
    "\n",
    "chi_test = stats.chi2_contingency(chi_table)\n",
    "chi2, p, deg_free, expected_vals = chi_test"
   ]
  },
  {
   "cell_type": "code",
   "execution_count": 38,
   "id": "0ef316e8",
   "metadata": {},
   "outputs": [
    {
     "name": "stdout",
     "output_type": "stream",
     "text": [
      "0.006548143503580696\n"
     ]
    },
    {
     "data": {
      "text/plain": [
       "True"
      ]
     },
     "execution_count": 38,
     "metadata": {},
     "output_type": "execute_result"
    }
   ],
   "source": [
    "# Print p value\n",
    "\n",
    "print(p)\n",
    "p<0.5"
   ]
  },
  {
   "cell_type": "markdown",
   "id": "08adf925",
   "metadata": {},
   "source": [
    "5. Interpret your p-value and reject or fail to reject your null hypothesis\n",
    "\n",
    "- P value is less than 0.5 so we reject our null hypothesis.\n",
    "- Male and females are likely to smoke at differing rates.\n",
    "\n",
    "6. Show a supporting visualization that helps display the result"
   ]
  },
  {
   "cell_type": "code",
   "execution_count": 41,
   "id": "3c541c3c",
   "metadata": {},
   "outputs": [
    {
     "data": {
      "image/png": "[encoded data removed]",
      "text/plain": [
       "<Figure size 640x480 with 1 Axes>"
      ]
     },
     "metadata": {},
     "output_type": "display_data"
    }
   ],
   "source": [
    "# Plot Figure\n",
    "\n",
    "sns.countplot(data=df, x='sex', hue='smoker')\n",
    "plt.title(\"Reported Smoking Status by Sex\"); "
   ]
  },
  {
   "cell_type": "markdown",
   "id": "3f6d4195",
   "metadata": {},
   "source": [
    "- Females are less likely to be smokers than males."
   ]
  },
  {
   "cell_type": "markdown",
   "id": "4e6c7c91",
   "metadata": {},
   "source": [
    "Question 3: DO different regions have different charges, on average?\n",
    "    \n",
    "1. State your Null Hypothesis and Alternative Hypothesis   \n",
    "    - Null Hypothesis: The average charges are the same for all four regions.\n",
    "    - Alt Hypothesis:  The average charges are not the same in all four regions.\n",
    "        \n",
    "2. Select the correct test according to the data type and number of samples.\n",
    "\n",
    "    - We will use ANOVA testing to compare a continuous variable across more than two groups.\n",
    "\n",
    "3. Test the assumptions of your selected test. \n"
   ]
  },
  {
   "cell_type": "code",
   "execution_count": 42,
   "id": "99addec6",
   "metadata": {},
   "outputs": [],
   "source": [
    "# Test for outliers\n",
    "\n",
    "zscores = np.abs(stats.zscore(df['charges']))\n",
    "df = df[zscores < 3]"
   ]
  },
  {
   "cell_type": "code",
   "execution_count": 43,
   "id": "510b5f23",
   "metadata": {},
   "outputs": [
    {
     "data": {
      "text/plain": [
       "dict_keys(['southwest', 'southeast', 'northwest', 'northeast'])"
      ]
     },
     "execution_count": 43,
     "metadata": {},
     "output_type": "execute_result"
    }
   ],
   "source": [
    "# Test for normality\n",
    "\n",
    "\n",
    "# Group by region \n",
    "groups = {}\n",
    "\n",
    "for i in df['region'].unique():\n",
    "    \n",
    "    data = df.loc[df['region']==i,'charges'].copy()\n",
    "    \n",
    "    # save into the dictionary\n",
    "    groups[i] = data\n",
    "groups.keys()"
   ]
  },
  {
   "cell_type": "code",
   "execution_count": 44,
   "id": "eac28d5d",
   "metadata": {},
   "outputs": [
    {
     "data": {
      "text/html": [
       "<div>\n",
       "<style scoped>\n",
       "    .dataframe tbody tr th:only-of-type {\n",
       "        vertical-align: middle;\n",
       "    }\n",
       "\n",
       "    .dataframe tbody tr th {\n",
       "        vertical-align: top;\n",
       "    }\n",
       "\n",
       "    .dataframe thead th {\n",
       "        text-align: right;\n",
       "    }\n",
       "</style>\n",
       "<table border=\"1\" class=\"dataframe\">\n",
       "  <thead>\n",
       "    <tr style=\"text-align: right;\">\n",
       "      <th></th>\n",
       "      <th>n</th>\n",
       "      <th>p</th>\n",
       "      <th>test stat</th>\n",
       "    </tr>\n",
       "  </thead>\n",
       "  <tbody>\n",
       "    <tr>\n",
       "      <th>southwest</th>\n",
       "      <td>323.0</td>\n",
       "      <td>1.718876e-22</td>\n",
       "      <td>100.230402</td>\n",
       "    </tr>\n",
       "    <tr>\n",
       "      <th>southeast</th>\n",
       "      <td>362.0</td>\n",
       "      <td>1.936990e-13</td>\n",
       "      <td>58.544942</td>\n",
       "    </tr>\n",
       "    <tr>\n",
       "      <th>northwest</th>\n",
       "      <td>323.0</td>\n",
       "      <td>9.182483e-21</td>\n",
       "      <td>92.273979</td>\n",
       "    </tr>\n",
       "    <tr>\n",
       "      <th>northeast</th>\n",
       "      <td>323.0</td>\n",
       "      <td>6.205365e-18</td>\n",
       "      <td>79.242235</td>\n",
       "    </tr>\n",
       "  </tbody>\n",
       "</table>\n",
       "</div>"
      ],
      "text/plain": [
       "               n             p   test stat\n",
       "southwest  323.0  1.718876e-22  100.230402\n",
       "southeast  362.0  1.936990e-13   58.544942\n",
       "northwest  323.0  9.182483e-21   92.273979\n",
       "northeast  323.0  6.205365e-18   79.242235"
      ]
     },
     "execution_count": 44,
     "metadata": {},
     "output_type": "execute_result"
    }
   ],
   "source": [
    "# Checking sig \n",
    "\n",
    "norm_results = {}\n",
    "for i, data in groups.items():\n",
    "    stat, p = stats.normaltest(data)\n",
    "    ## save the p val, test statistic, and the size of the group\n",
    "    norm_results[i] = {'n': len(data),\n",
    "                             'p':p,\n",
    "                             'test stat':stat,}\n",
    "## convert to a dataframe\n",
    "norm_results_df = pd.DataFrame(norm_results).T\n",
    "norm_results_df"
   ]
  },
  {
   "cell_type": "code",
   "execution_count": 45,
   "id": "be287828",
   "metadata": {},
   "outputs": [
    {
     "data": {
      "text/html": [
       "<div>\n",
       "<style scoped>\n",
       "    .dataframe tbody tr th:only-of-type {\n",
       "        vertical-align: middle;\n",
       "    }\n",
       "\n",
       "    .dataframe tbody tr th {\n",
       "        vertical-align: top;\n",
       "    }\n",
       "\n",
       "    .dataframe thead th {\n",
       "        text-align: right;\n",
       "    }\n",
       "</style>\n",
       "<table border=\"1\" class=\"dataframe\">\n",
       "  <thead>\n",
       "    <tr style=\"text-align: right;\">\n",
       "      <th></th>\n",
       "      <th>n</th>\n",
       "      <th>p</th>\n",
       "      <th>test stat</th>\n",
       "      <th>sig</th>\n",
       "    </tr>\n",
       "  </thead>\n",
       "  <tbody>\n",
       "    <tr>\n",
       "      <th>southwest</th>\n",
       "      <td>323.0</td>\n",
       "      <td>1.718876e-22</td>\n",
       "      <td>100.230402</td>\n",
       "      <td>True</td>\n",
       "    </tr>\n",
       "    <tr>\n",
       "      <th>southeast</th>\n",
       "      <td>362.0</td>\n",
       "      <td>1.936990e-13</td>\n",
       "      <td>58.544942</td>\n",
       "      <td>True</td>\n",
       "    </tr>\n",
       "    <tr>\n",
       "      <th>northwest</th>\n",
       "      <td>323.0</td>\n",
       "      <td>9.182483e-21</td>\n",
       "      <td>92.273979</td>\n",
       "      <td>True</td>\n",
       "    </tr>\n",
       "    <tr>\n",
       "      <th>northeast</th>\n",
       "      <td>323.0</td>\n",
       "      <td>6.205365e-18</td>\n",
       "      <td>79.242235</td>\n",
       "      <td>True</td>\n",
       "    </tr>\n",
       "  </tbody>\n",
       "</table>\n",
       "</div>"
      ],
      "text/plain": [
       "               n             p   test stat   sig\n",
       "southwest  323.0  1.718876e-22  100.230402  True\n",
       "southeast  362.0  1.936990e-13   58.544942  True\n",
       "northwest  323.0  9.182483e-21   92.273979  True\n",
       "northeast  323.0  6.205365e-18   79.242235  True"
      ]
     },
     "execution_count": 45,
     "metadata": {},
     "output_type": "execute_result"
    }
   ],
   "source": [
    "### checking sig with pandas \n",
    "norm_results_df['sig'] = norm_results_df['p'] < .05 \n",
    "norm_results_df\n"
   ]
  },
  {
   "cell_type": "code",
   "execution_count": 46,
   "id": "a8625226",
   "metadata": {},
   "outputs": [
    {
     "data": {
      "text/plain": [
       "LeveneResult(statistic=5.894904759083203, pvalue=0.0005382763869610836)"
      ]
     },
     "execution_count": 46,
     "metadata": {},
     "output_type": "execute_result"
    }
   ],
   "source": [
    "# with the * operator \n",
    "stats.levene(*groups.values())"
   ]
  },
  {
   "cell_type": "markdown",
   "id": "67172183",
   "metadata": {},
   "source": [
    "- p values are less than 0.05 so we reject our null hypothesis\n",
    "- charges are not equal across the four regions"
   ]
  },
  {
   "cell_type": "markdown",
   "id": "a23b906c",
   "metadata": {},
   "source": [
    "4. Execute the selected test, or the alternative test (if you do not meet the assumptions)\n",
    "\n",
    "Assumptions were not met above so we will test with Kruskal-Wallis.\n"
   ]
  },
  {
   "cell_type": "code",
   "execution_count": 47,
   "id": "75ff1280",
   "metadata": {},
   "outputs": [
    {
     "name": "stdout",
     "output_type": "stream",
     "text": [
      "Statistics=5.119, p=0.163\n"
     ]
    }
   ],
   "source": [
    "# Alternative test: kruskal-wallis\n",
    "\n",
    "\n",
    "from scipy.stats import kruskal\n",
    "\n",
    "stat, p = kruskal(df['charges'][df['region'] == 'southwest'],\n",
    "                  df['charges'][df['region'] == 'southeast'],\n",
    "                  df['charges'][df['region'] == 'northwest'],\n",
    "                  df['charges'][df['region'] == 'northeast'])\n",
    "\n",
    "print('Statistics=%.3f, p=%.3f' % (stat, p))"
   ]
  },
  {
   "cell_type": "markdown",
   "id": "b410577d",
   "metadata": {},
   "source": [
    "5. Interpret your p-value and reject or fail to reject your null hypothesis\n",
    "\n",
    "-    results from Kruskal-Wallis test have a p value greater than 0.05, so we fail to reject the null hypothesis.  \n",
    "    - There is no significant difference in charges across the four regions.\n",
    "\n",
    "6. Show a supporting visualization that helps display the result"
   ]
  },
  {
   "cell_type": "code",
   "execution_count": 48,
   "id": "0008ea62",
   "metadata": {},
   "outputs": [
    {
     "data": {
      "image/png": "[encoded data removed]",
      "text/plain": [
       "<Figure size 640x480 with 1 Axes>"
      ]
     },
     "metadata": {},
     "output_type": "display_data"
    }
   ],
   "source": [
    "# Plot charges by region \n",
    "\n",
    "sns.boxplot(x='region', y='charges', data=df)\n",
    "plt.title('Insurance Charges by Region')\n",
    "plt.show()"
   ]
  }
 ],
 "metadata": {
  "kernelspec": {
   "display_name": "Python (dojo-env)",
   "language": "python",
   "name": "dojo-env"
  },
  "language_info": {
   "codemirror_mode": {
    "name": "ipython",
    "version": 3
   },
   "file_extension": ".py",
   "mimetype": "text/x-python",
   "name": "python",
   "nbconvert_exporter": "python",
   "pygments_lexer": "ipython3",
   "version": "3.9.15"
  },
  "toc": {
   "base_numbering": 1,
   "nav_menu": {},
   "number_sections": true,
   "sideBar": true,
   "skip_h1_title": false,
   "title_cell": "Table of Contents",
   "title_sidebar": "Contents",
   "toc_cell": false,
   "toc_position": {},
   "toc_section_display": true,
   "toc_window_display": false
  }
 },
 "nbformat": 4,
 "nbformat_minor": 5
}
